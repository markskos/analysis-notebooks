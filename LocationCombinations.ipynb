{
 "cells": [
  {
   "cell_type": "markdown",
   "metadata": {},
   "source": [
    "### Build dataframe that contains the number of people (based on their WiFi device) that visited every pair of stores in our store list"
   ]
  },
  {
   "cell_type": "code",
   "execution_count": 10,
   "metadata": {
    "collapsed": false
   },
   "outputs": [],
   "source": [
    "import pandas as pd                                                                                                                                 \n",
    "from pandas.tools.plotting import parallel_coordinates\n",
    "# Numpy\n",
    "import numpy as np\n",
    "\n",
    "# SciPy\n",
    "from scipy import constants as phys_consts\n",
    "# Think this one is from scipy\n",
    "from skimage import io as skimg_io\n",
    "\n",
    "# Matplotlib\n",
    "import matplotlib.pyplot as plt\n",
    "import matplotlib.dates as mplDates\n",
    "from matplotlib.path import Path as mplPath\n",
    "import matplotlib.patches as mplPatches\n",
    "from matplotlib.gridspec import GridSpec\n",
    "font = {'weight' : 'bold',\n",
    "        'size'   : 22}\n",
    "plt.rc('font', **font)\n",
    "\n",
    "%matplotlib inline\n"
   ]
  },
  {
   "cell_type": "markdown",
   "metadata": {},
   "source": [
    "Define polygons for the various regions in pixels, then convert to x-y"
   ]
  },
  {
   "cell_type": "code",
   "execution_count": 11,
   "metadata": {
    "collapsed": false
   },
   "outputs": [],
   "source": [
    "import matplotlib.path as mplPath\n",
    "\n",
    "kruidvat = [[1468,996],[1588,996],[1652,934],[1652,824],[1468,824]]\n",
    "albertheijn = [[1783,1364],[2149,1364],[2220,1291],[2220,1001],[1783,1001],[1783,1049],[1718,1089],[1718,1172],[1754,1172],[1754,1291]]\n",
    "hema = [[1656,743],[1848,743],[1848,551],[1656,551]]\n",
    "abnamro = [[288,1372],[662,1372],[662,1290],[587,1290],[587,1146],[344,1146],[344,1185],[300,1218],[300,1288],[288,1288]]\n",
    "hagenouw = [[2002,925],[2221,925],[2221,799],[2002,799]]\n",
    "taesoen = [[2006,709],[2150,709],[2150,785],[2207,785],[2207,639],[2150,639],[2150,593],[2095,593],[2095,568],[2006,569]]\n",
    "gamemania = [[1308,997],[1423,997],[1423,774],[1308,774]]\n",
    "\n",
    "def convertToXY(arr):\n",
    "    for i in range(0,len(arr)):\n",
    "        arr[i][0] = (arr[i][0]/10.14) - 24.0\n",
    "        arr[i][1] = (arr[i][1]/11.3) - 73.98\n",
    "    return arr\n",
    "\n",
    "KruidPath = mplPath.Path(np.array(convertToXY(kruidvat)))\n",
    "ABNPath = mplPath.Path(np.array(convertToXY(abnamro)))\n",
    "AHPath = mplPath.Path(np.array(convertToXY(albertheijn)))\n",
    "HemaPath = mplPath.Path(np.array(convertToXY(hema)))"
   ]
  },
  {
   "cell_type": "markdown",
   "metadata": {},
   "source": [
    "Load the WiFi data with min signal strength at sensor of -75 dBm"
   ]
  },
  {
   "cell_type": "code",
   "execution_count": 12,
   "metadata": {
    "collapsed": false
   },
   "outputs": [
    {
     "data": {
      "text/html": [
       "<div>\n",
       "<table border=\"1\" class=\"dataframe\">\n",
       "  <thead>\n",
       "    <tr style=\"text-align: right;\">\n",
       "      <th></th>\n",
       "      <th>Unnamed: 0</th>\n",
       "      <th>sourceMac</th>\n",
       "      <th>measurementTimestamp</th>\n",
       "      <th>x</th>\n",
       "      <th>y</th>\n",
       "      <th>maxValue</th>\n",
       "      <th>maxProbe</th>\n",
       "      <th>localMac</th>\n",
       "      <th>InKruidvat</th>\n",
       "      <th>ABNAmro</th>\n",
       "      <th>InAH</th>\n",
       "      <th>InHema</th>\n",
       "    </tr>\n",
       "  </thead>\n",
       "  <tbody>\n",
       "    <tr>\n",
       "      <th>118</th>\n",
       "      <td>118</td>\n",
       "      <td>bd81542f-1e52-4ee0-8024-3cf03011e740</td>\n",
       "      <td>1451008204767</td>\n",
       "      <td>137.326444</td>\n",
       "      <td>6.341843</td>\n",
       "      <td>-74.000000</td>\n",
       "      <td>123</td>\n",
       "      <td>0</td>\n",
       "      <td>1</td>\n",
       "      <td>0</td>\n",
       "      <td>0</td>\n",
       "      <td>0</td>\n",
       "    </tr>\n",
       "    <tr>\n",
       "      <th>168</th>\n",
       "      <td>168</td>\n",
       "      <td>bd81542f-1e52-4ee0-8024-3cf03011e740</td>\n",
       "      <td>1451018583677</td>\n",
       "      <td>134.815370</td>\n",
       "      <td>3.096709</td>\n",
       "      <td>-74.500000</td>\n",
       "      <td>123</td>\n",
       "      <td>0</td>\n",
       "      <td>1</td>\n",
       "      <td>0</td>\n",
       "      <td>0</td>\n",
       "      <td>0</td>\n",
       "    </tr>\n",
       "    <tr>\n",
       "      <th>499</th>\n",
       "      <td>499</td>\n",
       "      <td>bd81542f-1e52-4ee0-8024-3cf03011e740</td>\n",
       "      <td>1451034894689</td>\n",
       "      <td>134.541808</td>\n",
       "      <td>3.979136</td>\n",
       "      <td>-74.000000</td>\n",
       "      <td>123</td>\n",
       "      <td>0</td>\n",
       "      <td>1</td>\n",
       "      <td>0</td>\n",
       "      <td>0</td>\n",
       "      <td>0</td>\n",
       "    </tr>\n",
       "    <tr>\n",
       "      <th>1466</th>\n",
       "      <td>1466</td>\n",
       "      <td>f4c1306d-96ed-470c-b3f5-3bbb53670b0a</td>\n",
       "      <td>1451039672446</td>\n",
       "      <td>126.186915</td>\n",
       "      <td>14.146507</td>\n",
       "      <td>-52.000000</td>\n",
       "      <td>123</td>\n",
       "      <td>0</td>\n",
       "      <td>1</td>\n",
       "      <td>0</td>\n",
       "      <td>0</td>\n",
       "      <td>0</td>\n",
       "    </tr>\n",
       "    <tr>\n",
       "      <th>1732</th>\n",
       "      <td>1732</td>\n",
       "      <td>064d0577-1387-4f26-b512-b8c826cfbd5d</td>\n",
       "      <td>1451040529421</td>\n",
       "      <td>134.670098</td>\n",
       "      <td>11.587335</td>\n",
       "      <td>-63.666667</td>\n",
       "      <td>123</td>\n",
       "      <td>0</td>\n",
       "      <td>1</td>\n",
       "      <td>0</td>\n",
       "      <td>0</td>\n",
       "      <td>0</td>\n",
       "    </tr>\n",
       "  </tbody>\n",
       "</table>\n",
       "</div>"
      ],
      "text/plain": [
       "      Unnamed: 0                             sourceMac  measurementTimestamp  \\\n",
       "118          118  bd81542f-1e52-4ee0-8024-3cf03011e740         1451008204767   \n",
       "168          168  bd81542f-1e52-4ee0-8024-3cf03011e740         1451018583677   \n",
       "499          499  bd81542f-1e52-4ee0-8024-3cf03011e740         1451034894689   \n",
       "1466        1466  f4c1306d-96ed-470c-b3f5-3bbb53670b0a         1451039672446   \n",
       "1732        1732  064d0577-1387-4f26-b512-b8c826cfbd5d         1451040529421   \n",
       "\n",
       "               x          y   maxValue  maxProbe  localMac  InKruidvat  \\\n",
       "118   137.326444   6.341843 -74.000000       123         0           1   \n",
       "168   134.815370   3.096709 -74.500000       123         0           1   \n",
       "499   134.541808   3.979136 -74.000000       123         0           1   \n",
       "1466  126.186915  14.146507 -52.000000       123         0           1   \n",
       "1732  134.670098  11.587335 -63.666667       123         0           1   \n",
       "\n",
       "      ABNAmro  InAH  InHema  \n",
       "118         0     0       0  \n",
       "168         0     0       0  \n",
       "499         0     0       0  \n",
       "1466        0     0       0  \n",
       "1732        0     0       0  "
      ]
     },
     "execution_count": 12,
     "metadata": {},
     "output_type": "execute_result"
    }
   ],
   "source": [
    "pDate = '2015-12-25'\n",
    "appId = 'cb004'\n",
    "dfFitAH = pd.read_csv('data/outputPdFileFitter{0}_{1}.csv'.format(appId,pDate),sep=',')\n",
    "\n",
    "dfFitAH = dfFitAH[(dfFitAH['localMac'] == 0) & (dfFitAH['maxValue'] > -75)].copy()            \n",
    "dfFitAH.head()\n",
    "\n",
    "volumes = {}\n",
    "volumes['InKruidvat'] = KruidPath\n",
    "volumes['InAH'] = AHPath\n",
    "\n",
    "dfFitAH['InKruidvat'] = dfFitAH.apply(lambda x: int(KruidPath.contains_point((x['x'],x['y']))),axis=1)\n",
    "dfFitAH['ABNAmro'] = dfFitAH.apply(lambda x: int(ABNPath.contains_point((x['x'],x['y']))),axis=1)\n",
    "dfFitAH['InAH'] = dfFitAH.apply(lambda x: int(AHPath.contains_point((x['x'],x['y']))),axis=1)\n",
    "dfFitAH['InHema'] = dfFitAH.apply(lambda x: int(HemaPath.contains_point((x['x'],x['y']))),axis=1)\n",
    "\n",
    "# Check that data is in the form we want\n",
    "dfFitAH[dfFitAH['InKruidvat'] > 0].head()\n"
   ]
  },
  {
   "cell_type": "markdown",
   "metadata": {},
   "source": [
    "Group by device (source mac address) and get the max of it being in any of the stores"
   ]
  },
  {
   "cell_type": "code",
   "execution_count": 13,
   "metadata": {
    "collapsed": false
   },
   "outputs": [],
   "source": [
    "dfFitG = dfFitAH.groupby('sourceMac').agg({'InKruidvat' : np.max})\n",
    "dfFitG['ABNAmro'] = dfFitAH.groupby('sourceMac')['ABNAmro'].max()\n",
    "dfFitG['InAH'] = dfFitAH.groupby('sourceMac')['InAH'].max()\n",
    "dfFitG['InHema'] = dfFitAH.groupby('sourceMac')['InHema'].max()"
   ]
  },
  {
   "cell_type": "markdown",
   "metadata": {},
   "source": [
    "### Determine the number of devices that were in each store"
   ]
  },
  {
   "cell_type": "code",
   "execution_count": 14,
   "metadata": {
    "collapsed": false
   },
   "outputs": [],
   "source": [
    "kr_count = dfFitG[dfFitG['InKruidvat'] > 0].count()[0]\n",
    "ah_count = dfFitG[dfFitG['InAH'] > 0].count()[0]\n",
    "hm_count = dfFitG[dfFitG['InHema'] > 0].count()[0]\n",
    "ab_count = dfFitG[dfFitG['ABNAmro'] > 0].count()[0]"
   ]
  },
  {
   "cell_type": "markdown",
   "metadata": {},
   "source": [
    "Make new dataframe with columns being all combinations of 2 stores,  sum up the column values for each combination"
   ]
  },
  {
   "cell_type": "code",
   "execution_count": 15,
   "metadata": {
    "collapsed": false
   },
   "outputs": [],
   "source": [
    "from  itertools import combinations\n",
    "store_combs = list(combinations(dfFitG.columns,2))\n",
    "df = pd.concat([dfFitG[comb[1]].add(dfFitG[comb[0]]) for comb in store_combs], axis=1, keys=store_combs)\n",
    "df.columns = df.columns.map('-'.join)"
   ]
  },
  {
   "cell_type": "markdown",
   "metadata": {},
   "source": [
    "Determine the number for each combination based on the sum of the column values being > 1, this means the device was in both locations. Build matrix of visit combinations where m$_{ij}$ corresponds to number that was both in store i and j"
   ]
  },
  {
   "cell_type": "code",
   "execution_count": 16,
   "metadata": {
    "collapsed": false
   },
   "outputs": [
    {
     "data": {
      "text/plain": [
       "[[30, 7, 14, 6], [7, 174, 10, 7], [14, 10, 50, 9], [6, 7, 9, 26]]"
      ]
     },
     "execution_count": 16,
     "metadata": {},
     "output_type": "execute_result"
    }
   ],
   "source": [
    "visit_index = ['InKruidvat', 'ABNAmro', 'InAH', 'InHema']\n",
    "visit_array = [[0]*len(visit_index) for i in range(len(visit_index))]\n",
    "for cols in df.columns:\n",
    "    comb_count = df[df[cols] > 1].count()[0]\n",
    "    piv = cols.index('-')\n",
    "    vis_num0 = visit_index.index(cols[0:piv])\n",
    "    vis_num1 = visit_index.index(cols[piv+1:])\n",
    "    visit_array[vis_num0][vis_num1] = comb_count\n",
    "    # this is so the matrix is symmetric\n",
    "    visit_array[vis_num1][vis_num0] = comb_count\n",
    " \n",
    "# fill in the diagnol elements\n",
    "visit_array[0][0] = kr_count\n",
    "visit_array[1][1] = ab_count\n",
    "visit_array[2][2] = ah_count\n",
    "visit_array[3][3] = hm_count\n",
    "visit_array"
   ]
  },
  {
   "cell_type": "markdown",
   "metadata": {},
   "source": [
    "### Finally convert the matrix to dataframe and display"
   ]
  },
  {
   "cell_type": "code",
   "execution_count": 17,
   "metadata": {
    "collapsed": true
   },
   "outputs": [],
   "source": [
    "dfFinal = pd.DataFrame(visit_array, columns=visit_index)"
   ]
  },
  {
   "cell_type": "code",
   "execution_count": 18,
   "metadata": {
    "collapsed": false
   },
   "outputs": [
    {
     "data": {
      "text/html": [
       "<div>\n",
       "<table border=\"1\" class=\"dataframe\">\n",
       "  <thead>\n",
       "    <tr style=\"text-align: right;\">\n",
       "      <th></th>\n",
       "      <th>InKruidvat</th>\n",
       "      <th>ABNAmro</th>\n",
       "      <th>InAH</th>\n",
       "      <th>InHema</th>\n",
       "    </tr>\n",
       "  </thead>\n",
       "  <tbody>\n",
       "    <tr>\n",
       "      <th>InKruidvat</th>\n",
       "      <td>30</td>\n",
       "      <td>7</td>\n",
       "      <td>14</td>\n",
       "      <td>6</td>\n",
       "    </tr>\n",
       "    <tr>\n",
       "      <th>ABNAmro</th>\n",
       "      <td>7</td>\n",
       "      <td>174</td>\n",
       "      <td>10</td>\n",
       "      <td>7</td>\n",
       "    </tr>\n",
       "    <tr>\n",
       "      <th>InAH</th>\n",
       "      <td>14</td>\n",
       "      <td>10</td>\n",
       "      <td>50</td>\n",
       "      <td>9</td>\n",
       "    </tr>\n",
       "    <tr>\n",
       "      <th>InHema</th>\n",
       "      <td>6</td>\n",
       "      <td>7</td>\n",
       "      <td>9</td>\n",
       "      <td>26</td>\n",
       "    </tr>\n",
       "  </tbody>\n",
       "</table>\n",
       "</div>"
      ],
      "text/plain": [
       "            InKruidvat  ABNAmro  InAH  InHema\n",
       "InKruidvat          30        7    14       6\n",
       "ABNAmro              7      174    10       7\n",
       "InAH                14       10    50       9\n",
       "InHema               6        7     9      26"
      ]
     },
     "execution_count": 18,
     "metadata": {},
     "output_type": "execute_result"
    }
   ],
   "source": [
    "dfFinal.index = visit_index\n",
    "dfFinal"
   ]
  },
  {
   "cell_type": "code",
   "execution_count": null,
   "metadata": {
    "collapsed": true
   },
   "outputs": [],
   "source": []
  }
 ],
 "metadata": {
  "kernelspec": {
   "display_name": "Python 2",
   "language": "python",
   "name": "python2"
  },
  "language_info": {
   "codemirror_mode": {
    "name": "ipython",
    "version": 2
   },
   "file_extension": ".py",
   "mimetype": "text/x-python",
   "name": "python",
   "nbconvert_exporter": "python",
   "pygments_lexer": "ipython2",
   "version": "2.7.13"
  }
 },
 "nbformat": 4,
 "nbformat_minor": 0
}
